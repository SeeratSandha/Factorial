{
  "nbformat": 4,
  "nbformat_minor": 0,
  "metadata": {
    "colab": {
      "provenance": [],
      "include_colab_link": true
    },
    "kernelspec": {
      "name": "python3",
      "display_name": "Python 3"
    },
    "language_info": {
      "name": "python"
    }
  },
  "cells": [
    {
      "cell_type": "markdown",
      "metadata": {
        "id": "view-in-github",
        "colab_type": "text"
      },
      "source": [
        "<a href=\"https://colab.research.google.com/github/SeeratSandha/Factorial/blob/main/Factorial.ipynb\" target=\"_parent\"><img src=\"https://colab.research.google.com/assets/colab-badge.svg\" alt=\"Open In Colab\"/></a>"
      ]
    },
    {
      "cell_type": "code",
      "execution_count": null,
      "metadata": {
        "colab": {
          "base_uri": "https://localhost:8080/"
        },
        "id": "yW98jeFh8WeM",
        "outputId": "5e6adb63-a39b-4528-c804-794e7b9a04c3"
      },
      "outputs": [
        {
          "output_type": "stream",
          "name": "stdout",
          "text": [
            "Enter a number: 3\n",
            "factorial of odd integer 3  is 1\n",
            "factorial of odd integer 3  is 3\n",
            "Fibonacci series is:  1 0 1 "
          ]
        }
      ],
      "source": [
        "# Assignment name : Factorial\n",
        "# Submitted by : Seerat Sandha.\n",
        "def find_Factorials():\n",
        " number = int(input(\"Enter a number: \"))\n",
        " F0 = 0\n",
        " F1 = 1\n",
        " sum = 0\n",
        " count = 1\n",
        "\n",
        " factorial = 1\n",
        " if (number % 2 == 0):\n",
        "  for i in range(1, number + 1):\n",
        "   factorial = factorial * i\n",
        "   print(\"factorial of even integer \", number, \" is \", factorial)\n",
        "\n",
        "\n",
        "  print(\"Fibonacci series is: \", end = \" \")\n",
        "\n",
        "\n",
        " else:\n",
        "  for i in range (1 ,number+1):\n",
        "   if (i<=number):\n",
        "     if(i%2!=0):\n",
        "      factorial = factorial*i\n",
        "      print(\"factorial of odd integer\" ,number,\" is\" , factorial )\n",
        "\n",
        "\n",
        "  print(\"Fibonacci series is: \", end = \" \")\n",
        " while(count <= number):\n",
        "    count += 1\n",
        "    F0 = F1\n",
        "    F1 = sum\n",
        "    sum = F0 + F1\n",
        "    print(F0, end=\" \")\n",
        "\n",
        "find_Factorials()"
      ]
    }
  ]
}